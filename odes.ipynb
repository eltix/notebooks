{
 "cells": [
  {
   "cell_type": "markdown",
   "metadata": {},
   "source": [
    "# Ordinary Differential Equations (ODEs) - Initial Value Problems (IVPs)"
   ]
  },
  {
   "cell_type": "code",
   "execution_count": 1,
   "metadata": {},
   "outputs": [
    {
     "data": {
      "application/javascript": [
       "MathJax.Hub.Config({\n",
       "    TeX: { equationNumbers: { autoNumber: \"AMS\" } }\n",
       "});"
      ],
      "text/plain": [
       "<IPython.core.display.Javascript object>"
      ]
     },
     "metadata": {},
     "output_type": "display_data"
    }
   ],
   "source": [
    "%%javascript\n",
    "MathJax.Hub.Config({\n",
    "    TeX: { equationNumbers: { autoNumber: \"AMS\" } }\n",
    "});"
   ]
  },
  {
   "cell_type": "markdown",
   "metadata": {},
   "source": [
    "## Initial Value Problems (IVPs)\n",
    "\n",
    "Before we start, let's define some useful notations. The class of problems we try to solve using Simwork is a subet of the ODEs problems where we want to solve for a quantity with the knowledge of its time derivative and its initial condition. These problems are called Initial Value Problems (IVPs) and have been extensively studied for at least the past two and a half centuries. They have the following form:\n",
    "\n",
    "\\begin{equation}\n",
    "\\dot y = f(y,t), \\quad y(t_0) = y_0,\n",
    "\\end{equation}\n",
    "\n",
    "where $y, y_0 \\in \\mathbb R^M$. Here $M$ corresponds to the **dimension** of the problem or, in other words, the number of unknowns. In our world, $M$ usually corresponds to the number of entities (or `BioReac` in Simwork).\n",
    "$M$ can range from 1 to 500+ for very complex models. As a rule of thumb, the higher the $M$, the more difficult it is to solve the problem, but we'll come back to that later.\n",
    "\n",
    "Other well-known types of ODEs are the Boundary Value Problems (BVPs) but this topic is beyond the scope of the present notebook.\n",
    "\n",
    "\n",
    "## Numerical Methods to solve IVPs\n",
    "\n",
    "### Generalities\n",
    "\n",
    "Among the vast collection of methods used to solve IVPs problems, we shall focus here on the implicit Backward Differentiation Formula (BDF) family because it's one of the methods (and actually almost the only one) we use in practice. It has proved to be very robust and efficient when solving large and _stiff_ problems.\n",
    "\n",
    "### The fixed-order fixed-timestep BDF scheme\n",
    "\n",
    "To solve (1), the following discretization is proposed, where $t_n$ is the $n$-th discrete time point:\n",
    "\n",
    "\\begin{align}\n",
    "y(t_n) &\\simeq y^n, \\\\\n",
    "f(y(t_n), t_n) &\\simeq \\beta f(y^n, t_n), \\\\\n",
    "\\dot y(t_n) &\\simeq \\frac{1}{h} \\sum_{i=0}^{p} \\alpha_i y^{n-i},\n",
    "\\end{align}\n",
    "\n",
    "where $h$ is the current **step-size** $h = t^n - t^{n-1}$ and $p$ is the **order** of the method. The $p$-th order BDF scheme is usually referred to as BDF-p.\n",
    "In practice, only the methods from BDF-1 (a.k.a _implicit Euler_) to BDF-6 (BDF-6 is so unstable that the library we're using stops at BDF-5) are used, the higher order methods being too unstable.\n",
    "\n",
    "We can see in (3) that the approximation of the derivative of $y$ depends on the current step to be solved for $y^n$ and on the previously solved step $y^{n-1}$. For orders $p \\ge 2$, the approximation also depends on previous steps $y^{n-2}, \\ldots, y^{n-p}$. That is why the BDF schemes are called **multi-step methods** (as opposed to one-step methods such as the Runga-Kutta methods, but that's beyond the scope of this notebook).   \n",
    "We also notice that the approximation of the RHS $f(y(t_n), t_n)$ involves the current step to be solved $y^n$. We say that the method is **implicit** (as opposed to explicit methods for which the RHS approximation only involves previously solved steps). As a rule of thumb, implicit methods are more _robust_ or _stable_ than explicit ones but they are also more computationally expensive, we'll see why in the next section.\n",
    "\n",
    "### Numerical solution of an IVP using a fixed order BDF-scheme\n",
    "\n",
    "#### Time iterations\n",
    "\n",
    "Let's see how we would solve the IVP problem stated in (1) with a BDF-$p$ scheme. For the sake of notation clarity, we consider the case where $p \\ge 2$ in the following.\n",
    "First, we assume we not only know the initial condition $y^0$ but also the $p-1$ subsequent steps $y^1, \\ldots y^{p-1}$ (which means in practice we cannot really use any BDF$-p_{p\\ge 2}$ method _from the beginning_).  \n",
    "Then, for any time step $t^n$, $n \\ge p$, we find for the current unknown $y^n$ by solving the following equation:\n",
    "\n",
    "\\begin{equation}\n",
    "R(y^n) := \\alpha_0 y^n + \\sum_{i=1}^{p}\\alpha_i y^{n-i} - h \\beta f(y^n, t_n) = 0\n",
    "\\end{equation}\n",
    "\n",
    "Equation (5) is usually referred to as the time iteration equation, meaning we have to solve it for each time-step of our time integration: we solve (5) for $y_p$ with the knowledge of $y^1, \\ldots y^{p-1}$, then we solve for $y_{p+1}$ with the knowledge of $y^2, \\ldots y^{p}$ and so on until we reach a final user-defined time $t_n = T_{max}$.\n",
    "Of course, the previous values $y^{n-1}, \\ldots, y^{n-p}$ have already been solved for in the previous steps, therefore the only unknown in (5) is $y^n$. \n",
    "Remember however that $y^n \\in \\mathbb R^M$ so there really are $M$ unknowns.\n",
    "\n",
    "Can we directly solve (5)? Unfortunately the answer is **no** because $f(y^n, t_n)$ is an arbitrary function and $y^n$ is our unknown so, in most cases, there is no closed form solution for (5). \n",
    "We'll have to use a root-finding algorithm to cancel out $R(y^n)$.\n",
    "It's the curse of every **implicit** method and that's why they are generally more expensive than explicit ones.\n",
    "\n",
    "#### Yet Another Iteration (yai !)\n",
    "\n",
    "For each time iteration step $n$, we're going to solve (5) using an iterative method (which has nothing to do with the time iteration). \n",
    "There exist many methods to do what we want but we'll focus here on the [Newton-Raphson method](https://en.wikipedia.org/wiki/Newton%27s_method) because it's very efficient and above all because that's the one we use in practice.\n",
    "\n",
    "Given an initial guess for $y^n$ called $y^{n,0}$ (it usually is an estimator $\\hat y^{n}$ computed with an explicit scheme, but each solver has its own collection of heuristics. It may not seem much but the right choice for the initial guess is paramount), (5) is solved following this simple algorithm (in pseudo-code):\n",
    "\n",
    "```python\n",
    "for k in {1..K}\n",
    "  yk        := y(n, k)\n",
    "  if (R(yk) < tol) then break else continue\n",
    "  x         <- solve J(yk)*x = -R(yk) (6)\n",
    "  y(n, k+1) <- yk + x\n",
    "  \n",
    "```\n",
    "\n",
    "Here, $J(y^{n, k})$ is called the Jacobian (or Jacobian matrix) and reads:\n",
    "\n",
    "\\begin{equation}\n",
    "J(y^{n, k}) = \\frac{\\partial R(y^{n,k})}{\\partial y^{n,k}} \\quad \\in \\mathbb R^{M\\times M}\n",
    "\\end{equation}\n",
    "\n",
    "Solving the linear system in (6) is very costly and, in most applications, constitutes the bottleneck in terms of computational time. If the matrix is dense and if we use a direct linear solver, the computational time is $\\mathcal O (M^3)$, **cubic in the number of unknowns!**  Try to remember that every time you want to add an unknown to your problem.  \n",
    "_Remark: To be fair, it is not always true that we use a direct solver. If the matrix is sparse enough it can be interesting to use an iterative solver which has cost $\\mathcal{O}(k M^2)$ but that's another topic entirely._\n",
    "\n",
    "To summarize, the most important cost is the solving of (6) which, _for every time-step_, is repeated $K$ times. $K$ is the number of iterations needed for the Newton algorithm to converge and is of the order of 5-10 typically.\n",
    "\n",
    "### Accuracy - Stability\n",
    "\n",
    "The higher the order, the more accurate the method is.  \n",
    "Indeed, it can be shown that the truncation error for the $p$-order method is $\\mathcal O (h^p)$, meaning bigger time steps can be taken to reach a given accuracy.  \n",
    "Unfortunately, higher order also means more instability such that starting for $p = 3, 4, 5$ the methods are usually unusable in practice _as is_. That's where adaptive order BDF come into action.\n",
    "\n",
    "### Adaptive order (and adaptive time-step) BDF\n",
    "\n",
    "In practice we use all BDFs (BDF-1 -> BDF-5) at once ! This hybrid scheme is called adaptive order because it allows for a dynamic adaptation of the order of the method during the time integration based on stability detection and the accuracy control. The time-step itself is also adaptive, also for stability and accuracy. For this reason, the formula in (4) does not hold anymore but the principle stays the same: the derivative of $y$ is approximated using the current step and $p$ previous steps.\n",
    "Programming a smart adaptive-order adaptive-timestep BDF solver is very difficult. For this reason, we use an external tool written in C++ called [CVODE](https://computation.llnl.gov/projects/sundials/cvode) (from the [Sundials suite](https://computation.llnl.gov/projects/sundials)). The job of Simwork is to translate the user-defined network of reactions into an IVP that will be solved by the Sundials solver. We let the external tool do all the hard work but we can still alleviate by choosing educated tolerance parameters and scalings for the variables (that is your job and we'll introduce some good practices in the following Simwork tutorial)."
   ]
  },
  {
   "cell_type": "markdown",
   "metadata": {},
   "source": [
    "## Numerical Illustration\n",
    "\n",
    "Let's illustrate the previous considerations with a simple model, the Robertson model. We'll see later how we deal with this model in Simwork but right now, for the sake of simplicity, we'll use a Python library to do the job.\n",
    "Here is the model in chemical notation:\n",
    "\n",
    "\\begin{align}\n",
    "A &\\longrightarrow B \\\\\n",
    "B + B &\\longrightarrow B + C \\\\\n",
    "B + C &\\longrightarrow A + C\n",
    "\\end{align}\n",
    "\n",
    "and in ODE notation:\n",
    "\n",
    "\\begin{align}\n",
    "\\frac{dA}{dt} &= -k_1 A + k_3 BC \\\\\n",
    "\\frac{dB}{dt} &= k_1 A - k_3 BC - k_2 B^2 \\\\\n",
    "\\frac{dC}{dt} &= k_2 B^2 \\\\\n",
    "&A(t=0) = 1, \\quad B(t=0) = 0, \\quad C(t=0) = 0\n",
    "\\end{align}\n",
    "\n",
    "where $k_1 = 4.10^{-2}, \\quad k_2 = 3.10^7, \\quad k_3 = 10^4$.\n",
    "\n",
    "We notice that three different rates _scales_ coexist in this model: a fast reaction (B+C->A+C), a \"very\" fast reaction (B+B->B+C) and a slow one (A->B).\n",
    "This coexistence of different time scales makes the model \"stiff\" and therefore hard to solve, especially with **explicit** solvers.  \n",
    "In fact, \"stiff\" IVPs are sometimes defined as \"not solvable by explicit solvers\". The definition of stiffness is not consensual and some definitions are rather technical so this one has the merit of being easily understandable.\n"
   ]
  },
  {
   "cell_type": "code",
   "execution_count": 13,
   "metadata": {},
   "outputs": [],
   "source": [
    "# Let's import some useful modules\n",
    "%matplotlib inline\n",
    "from matplotlib import pyplot\n",
    "import numpy as np\n",
    "from scipy.integrate import solve_ivp"
   ]
  },
  {
   "cell_type": "markdown",
   "metadata": {},
   "source": [
    "### Solving the Robertson model with an Explicit solver\n",
    "\n",
    "Let us solve the previous IVP with an explicit solver, namely 'RKF45', an explicit Runge-Kutta scheme.\n",
    "Run the cell below using the \"Run\" button (or alternatively `Shift + Enter`). After the model is solved, a plot of the solution should appear. What do you notice ?"
   ]
  },
  {
   "cell_type": "code",
   "execution_count": 22,
   "metadata": {},
   "outputs": [
    {
     "data": {
      "image/png": "[encoded data removed]",
      "text/plain": [
       "<Figure size 648x288 with 1 Axes>"
      ]
     },
     "metadata": {
      "needs_background": "light"
     },
     "output_type": "display_data"
    }
   ],
   "source": [
    "# Implementation of the Robertson model\n",
    "def robertson(t, y): \n",
    "    k1 = 0.04\n",
    "    k2 = 3e7\n",
    "    k3 = 1e4\n",
    "    ydot = [-k1*y[0] + k3*y[1]*y[2], k1*y[0] - k3*y[1]*y[2] - k2*y[1]**2, k2*y[1]**2]\n",
    "    return ydot\n",
    "sol = solve_ivp(robertson, [0, 100], [1, 0, 0], method='RK45')\n",
    "\n",
    "pyplot.figure(figsize=(9.0, 4.0))  # set the size of the figure\n",
    "pyplot.plot(sol.t, sol.y[0], '-', color='C0', linewidth=2);\n",
    "pyplot.plot(sol.t, sol.y[1], '-', color='C1', linewidth=2);\n",
    "pyplot.plot(sol.t, sol.y[2], '-', color='C2', linewidth=2);"
   ]
  },
  {
   "cell_type": "markdown",
   "metadata": {},
   "source": [
    "### What takes so long?\n",
    "You may have noticed that several seconds are necessary to solve a seemingly trivial IVP using an explicit solver. This is an illustration of the _stiffness_ we gave earlier. Actually, the solver does not fail _per se_ but takes an absurd amount of time to solve the problem.\n",
    "We can further confirm this diagnosis by looking at the number of internal time steps taken by the solver.\n",
    "The plot below is a histogram of the number of time steps across the simulation interval $[0, 100]$. \n",
    "In addition to the sheer amount of time steps (100k+), what should strike you is the fact that this number is increasing with the simulation time, even though the variables _seem_ to have reached some kind of equilibrium. Nothing happens and yet the solver is struggling to find a solution. That's a perfect illustration a _stiff_ IVP."
   ]
  },
  {
   "cell_type": "code",
   "execution_count": 24,
   "metadata": {},
   "outputs": [
    {
     "name": "stdout",
     "output_type": "stream",
     "text": [
      "Total number of internal time steps: 109025\n"
     ]
    },
    {
     "data": {
      "image/png": "[encoded data removed]",
      "text/plain": [
       "<Figure size 648x288 with 1 Axes>"
      ]
     },
     "metadata": {
      "needs_background": "light"
     },
     "output_type": "display_data"
    }
   ],
   "source": [
    "pyplot.figure(figsize=(9.0, 4.0))  # set the size of the figure\n",
    "pyplot.hist(sol.t, bins=200);\n",
    "pyplot.ylabel(\"number of time steps\")\n",
    "pyplot.xlabel(\"simulation time\")\n",
    "print(\"Total number of internal time steps:\", len(sol.t))"
   ]
  },
  {
   "cell_type": "markdown",
   "metadata": {},
   "source": [
    "\n",
    "### Implicit BDF scheme\n",
    "Figuring out that the IVP is _stiff_ makes us want to try an implicit solver. In fact, most of the problems you'll be dealing with in the future will be _stiff_ IVPs and this is why in practice we don't bother trying explicit solvers and start with implicit ones (and more precisely with `BDF`) right away.\n",
    "\n",
    "Run the cell below which solves the same IVP but this time with the Python implementation of the implicit adaptive-order adaptive-timestep BDF. What do you notice ?"
   ]
  },
  {
   "cell_type": "code",
   "execution_count": 21,
   "metadata": {},
   "outputs": [
    {
     "name": "stdout",
     "output_type": "stream",
     "text": [
      "Total number of internal time steps: 50\n"
     ]
    },
    {
     "data": {
      "image/png": "[encoded data removed]",
      "text/plain": [
       "<Figure size 648x288 with 1 Axes>"
      ]
     },
     "metadata": {
      "needs_background": "light"
     },
     "output_type": "display_data"
    }
   ],
   "source": [
    "sol = solve_ivp(robertson, [0, 100], [1, 0, 0], method='BDF')\n",
    "pyplot.figure(figsize=(9.0, 4.0))  # set the size of the figure\n",
    "pyplot.hist(sol.t, bins=20)\n",
    "pyplot.ylabel(\"number of time steps\")\n",
    "pyplot.xlabel(\"simulation time\")\n",
    "print(\"Total number of internal time steps:\", len(sol.t))"
   ]
  },
  {
   "cell_type": "markdown",
   "metadata": {},
   "source": [
    "Pretty fast eh ? And looking at the histogram of the internal time steps (only $\\simeq$ 50 internal time steps by the way !), we notice that after the \"shock\" near $t=0$ (you'll see this shock in more details in the Simwork tutorial), the solver takes roughly a constant number of time steps across the simulation interval."
   ]
  },
  {
   "cell_type": "markdown",
   "metadata": {},
   "source": [
    "### To go further\n",
    "\n",
    "[1] Süli E., Mayers D. (2003). _An Introduction to Numerical Analysis_. Cambridge University Press. [link](http://newdoc.nccu.edu.tw/teasyllabus/111648701013/Numerical_Analysis.pdf)\n",
    "\n",
    "[2] Hairer E., Norset S.P. _et al_ (2008). _Solving Ordinary Differential Equations - I - Nonstiff Problems_. Springer. (ask me for the book)\n",
    "\n",
    "[3] Hairer E., Norset S.P. _et al_ (2008). _Solving Ordinary Differential Equations - II - Stiff and Differential-Algebraic Problems_. Springer. (ask me for the book)\n",
    "\n",
    "[4] User Documentation for Sundials CVODE v3.1.2 [link](https://computation.llnl.gov/sites/default/files/public/cv_guide.pdf)"
   ]
  },
  {
   "cell_type": "code",
   "execution_count": null,
   "metadata": {},
   "outputs": [],
   "source": []
  }
 ],
 "metadata": {
  "kernelspec": {
   "display_name": "Python 3",
   "language": "python",
   "name": "python3"
  },
  "language_info": {
   "codemirror_mode": {
    "name": "ipython",
    "version": 3
   },
   "file_extension": ".py",
   "mimetype": "text/x-python",
   "name": "python",
   "nbconvert_exporter": "python",
   "pygments_lexer": "ipython3",
   "version": "3.6.6"
  }
 },
 "nbformat": 4,
 "nbformat_minor": 2
}
