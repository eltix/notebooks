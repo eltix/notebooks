{
 "cells": [
  {
   "cell_type": "markdown",
   "metadata": {},
   "source": [
    "## Ordinary Differential Equations (ODEs)"
   ]
  },
  {
   "cell_type": "code",
   "execution_count": 1,
   "metadata": {},
   "outputs": [
    {
     "data": {
      "application/javascript": [
       "MathJax.Hub.Config({\n",
       "    TeX: { equationNumbers: { autoNumber: \"AMS\" } }\n",
       "});"
      ],
      "text/plain": [
       "<IPython.core.display.Javascript object>"
      ]
     },
     "metadata": {},
     "output_type": "display_data"
    }
   ],
   "source": [
    "%%javascript\n",
    "MathJax.Hub.Config({\n",
    "    TeX: { equationNumbers: { autoNumber: \"AMS\" } }\n",
    "});"
   ]
  },
  {
   "cell_type": "markdown",
   "metadata": {},
   "source": [
    "### Notations\n",
    "\n",
    "Before we start, let's define some useful notations. The class of problems we try to solve using Simwork is a subet of the ODEs family called Initial Value Problems (IVPs). They have the following form:\n",
    "\n",
    "\\begin{equation}\n",
    "\\dot y = f(y,t), \\quad y(t_0) = y_0,\n",
    "\\end{equation}\n",
    "\n",
    "where $y, y_0 \\in \\mathbb R^n$. Here $n$ corresponds to the **dimension** of the problem or, in other words, the number of unknowns. In our world, $n$ usually corresponds to the number of entities (or `BioReac` in Simwork).\n",
    "$n$ can range from 1 to 500+ for very complex models. As a rule of thumb, the higher the $n$, the more difficult it is to solve the problem, but we'll come back to that later.\n",
    "\n",
    "### Numerical Methods\n",
    "\n",
    "Among the vast collection of methods used to solve IVPs problems, we shall focus here on the implicit Backward Differentiation Formula (BDF) family because it's one of the methods (and actually almost the only one) we use in practice. It has proved to be very robust and efficient when solving large and _stiff_ problems.\n",
    "\n",
    "### The fixed-order BDF scheme\n",
    "\n",
    "To solve (1), the following discretization is proposed, where $t_n$ is the $n$-th discrete time point:\n",
    "\n",
    "\\begin{align}\n",
    "y(t_n) &\\simeq y^n, \\\\\n",
    "f(y(t_n), t_n) &\\simeq \\beta f(y^n, t_n), \\\\\n",
    "\\dot y(t_n) &\\simeq \\frac{1}{h} \\sum_{i=0}^{p} \\alpha_i y(t^{n-i}),\n",
    "\\end{align}\n",
    "\n",
    "where $p$ is the **order** of the method. The $p$-th order BDF scheme is usually referred to as BDF-p.\n",
    "In practice, only the methods from BDF-1 (a.k.a _implicit Euler_) to BDF-6 (BDF-6 is so unstable that the library we're using stops at BDF-5) are used, the higher order methods being too unstable.\n",
    "The higher the order, the more accurate the method is.  \n",
    "Indeed, it can be shown that the truncation error for the $p$-order method is $\\mathcal O (h^p)$, meaning bigger time steps can be taken to reach a given accuracy.  \n",
    "Unfortunately, higher order also means more instability such that starting for $p = 3, 4, 5$ the methods are usually unusable in practice _as is_. That's where adaptive order BDF come into action.\n",
    "\n",
    "### Adaptive order BDF\n",
    "\n",
    "In practice we use all BDFs (BDF1 -> BDF5) at once ! This hybrid scheme is called adaptive order because it automatically adapts the order of the method during the time integration based on the current stability and the desired accuracy."
   ]
  },
  {
   "cell_type": "markdown",
   "metadata": {},
   "source": [
    "### Material used to write this notebook\n",
    "\n",
    "Süli, Mayers, An Introduction to Numerical Analysis, Cambridge University Press, 2003."
   ]
  }
 ],
 "metadata": {
  "kernelspec": {
   "display_name": "Python 3",
   "language": "python",
   "name": "python3"
  },
  "language_info": {
   "codemirror_mode": {
    "name": "ipython",
    "version": 3
   },
   "file_extension": ".py",
   "mimetype": "text/x-python",
   "name": "python",
   "nbconvert_exporter": "python",
   "pygments_lexer": "ipython3",
   "version": "3.6.6"
  }
 },
 "nbformat": 4,
 "nbformat_minor": 2
}
